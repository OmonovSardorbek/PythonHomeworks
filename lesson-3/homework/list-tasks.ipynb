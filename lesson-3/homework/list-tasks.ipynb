{
 "cells": [
  {
   "cell_type": "code",
   "execution_count": null,
   "metadata": {},
   "outputs": [],
   "source": [
    "def count_occurrences(lst, element):\n",
    "    return lst.count(element)\n",
    "    \n",
    "my_list = list(map(int, input(\"Enter list elements separated by space: \").split()))\n",
    "print(count_occurrences(my_list, 3))"
   ]
  },
  {
   "cell_type": "code",
   "execution_count": null,
   "metadata": {},
   "outputs": [],
   "source": [
    "def sum_of_elements(lst):\n",
    "    return sum(lst)\n",
    "my_list = list(map(int, input(\"Enter list elements separated by space: \").split()))\n",
    "print(sum_of_elements(my_list))\n"
   ]
  },
  {
   "cell_type": "code",
   "execution_count": 1,
   "metadata": {},
   "outputs": [],
   "source": [
    "def max_element(lst):\n",
    "    return max(lst) if lst else None\n",
    "my_list = list(map(int, input(\"Enter list elements separated by space: \").split()))\n",
    "print(max_element(my_list))"
   ]
  },
  {
   "cell_type": "code",
   "execution_count": null,
   "metadata": {},
   "outputs": [],
   "source": [
    "def min_element(lst):\n",
    "    return min(lst) if lst else None\n",
    "my_list = list(map(int, input(\"Enter list elements separated by space: \").split()))\n",
    "print(min_element(my_list))"
   ]
  },
  {
   "cell_type": "code",
   "execution_count": null,
   "metadata": {},
   "outputs": [],
   "source": [
    "def check_element(lst, element):\n",
    "    return element in lst\n",
    "my_list = list(map(int, input(\"Enter list elements separated by space: \").split()))\n",
    "print(check_element(my_list, 3))"
   ]
  },
  {
   "cell_type": "code",
   "execution_count": null,
   "metadata": {},
   "outputs": [],
   "source": [
    "def first_element(lst):\n",
    "    return lst[0] if lst else None\n",
    "my_list = list(map(int, input(\"Enter list elements separated by space: \").split()))\n",
    "print(first_element(my_list))"
   ]
  },
  {
   "cell_type": "code",
   "execution_count": 2,
   "metadata": {},
   "outputs": [],
   "source": [
    "def last_element(lst):\n",
    "    return lst[-1] if lst else None\n",
    "my_list = list(map(int, input(\"Enter list elements separated by space: \").split()))\n",
    "print(last_element(my_list))"
   ]
  },
  {
   "cell_type": "code",
   "execution_count": null,
   "metadata": {},
   "outputs": [],
   "source": [
    "def slice_list(lst):\n",
    "    return lst[:3]\n",
    "my_list = list(map(int, input(\"Enter list elements separated by space: \").split()))\n",
    "print(slice_list(my_list))"
   ]
  },
  {
   "cell_type": "code",
   "execution_count": 3,
   "metadata": {},
   "outputs": [],
   "source": [
    "def reverse_list(lst):\n",
    "    return lst[::-1]\n",
    "my_list = list(map(int, input(\"Enter list elements separated by space: \").split()))\n",
    "print(reverse_list(my_list))"
   ]
  },
  {
   "cell_type": "code",
   "execution_count": 4,
   "metadata": {},
   "outputs": [],
   "source": [
    "def sort_list(lst):\n",
    "    return sorted(lst)\n",
    "my_list = list(map(int, input(\"Enter list elements separated by space: \").split()))\n",
    "print(sort_list(my_list))"
   ]
  },
  {
   "cell_type": "code",
   "execution_count": null,
   "metadata": {},
   "outputs": [],
   "source": [
    "def remove_duplicates(lst):\n",
    "    return list(set(lst))\n",
    "my_list = list(map(int, input(\"Enter list elements separated by space: \").split()))\n",
    "print(remove_duplicates(my_list))"
   ]
  },
  {
   "cell_type": "code",
   "execution_count": null,
   "metadata": {},
   "outputs": [],
   "source": [
    "def insert_element(lst, element, index):\n",
    "    lst.insert(index, element)\n",
    "    return lst\n",
    "my_list = list(map(int, input(\"Enter list elements separated by space: \").split()))\n",
    "print(insert_element(my_list[:], 6, 2))"
   ]
  },
  {
   "cell_type": "code",
   "execution_count": null,
   "metadata": {},
   "outputs": [],
   "source": [
    "def index_of_element(lst, element):\n",
    "    try:\n",
    "        return lst.index(element)\n",
    "    except ValueError:\n",
    "        return None\n",
    "my_list = list(map(int, input(\"Enter list elements separated by space: \").split()))\n",
    "print(index_of_element(my_list, 3))"
   ]
  },
  {
   "cell_type": "code",
   "execution_count": null,
   "metadata": {},
   "outputs": [],
   "source": [
    "def check_for_empty_list(lst):\n",
    "    return len(lst) == 0\n",
    "my_list = list(map(int, input(\"Enter list elements separated by space: \").split()))\n",
    "print(check_for_empty_list(my_list))\n"
   ]
  },
  {
   "cell_type": "code",
   "execution_count": null,
   "metadata": {},
   "outputs": [],
   "source": [
    "def count_even_numbers(lst):\n",
    "    return len([num for num in lst if num % 2 == 0])\n",
    "my_list = list(map(int, input(\"Enter list elements separated by space: \").split()))\n",
    "print(count_even_numbers(my_list))"
   ]
  },
  {
   "cell_type": "code",
   "execution_count": null,
   "metadata": {},
   "outputs": [],
   "source": [
    "def count_odd_numbers(lst):\n",
    "    return len([num for num in lst if num % 2 != 0])\n",
    "my_list = list(map(int, input(\"Enter list elements separated by space: \").split()))\n",
    "print(count_odd_numbers(my_list))"
   ]
  },
  {
   "cell_type": "code",
   "execution_count": null,
   "metadata": {},
   "outputs": [],
   "source": [
    "def concatenate_lists(lst1, lst2):\n",
    "    return lst1 + lst2\n",
    "my_list = list(map(int, input(\"Enter list elements separated by space: \").split()))\n",
    "print(concatenate_lists(my_list, [6, 7, 8]))"
   ]
  },
  {
   "cell_type": "code",
   "execution_count": null,
   "metadata": {},
   "outputs": [],
   "source": [
    "def find_sublist(lst, sublist):\n",
    "    sublist_len = len(sublist)\n",
    "    return any(lst[i:i + sublist_len] == sublist for i in range(len(lst) - sublist_len + 1))\n",
    "my_list = list(map(int, input(\"Enter list elements separated by space: \").split()))\n",
    "print(find_sublist(my_list, [3, 4]))"
   ]
  },
  {
   "cell_type": "code",
   "execution_count": null,
   "metadata": {},
   "outputs": [],
   "source": [
    "def replace_element(lst, old, new):\n",
    "    try:\n",
    "        idx = lst.index(old)\n",
    "        lst[idx] = new\n",
    "    except ValueError:\n",
    "        pass\n",
    "    return lst\n",
    "my_list = list(map(int, input(\"Enter list elements separated by space: \").split()))\n",
    "print(replace_element(my_list[:], 3, 9))"
   ]
  },
  {
   "cell_type": "code",
   "execution_count": null,
   "metadata": {},
   "outputs": [],
   "source": [
    "def find_second_largest(lst):\n",
    "    unique_elements = list(set(lst))\n",
    "    unique_elements.sort()\n",
    "    return unique_elements[-2] if len(unique_elements) > 1 else None\n",
    "my_list = list(map(int, input(\"Enter list elements separated by space: \").split()))\n",
    "print(find_second_largest(my_list))\n"
   ]
  },
  {
   "cell_type": "code",
   "execution_count": null,
   "metadata": {},
   "outputs": [],
   "source": [
    "def find_second_smallest(lst):\n",
    "    unique_elements = list(set(lst))\n",
    "    unique_elements.sort()\n",
    "    return unique_elements[1] if len(unique_elements) > 1 else None\n",
    "my_list = list(map(int, input(\"Enter list elements separated by space: \").split()))\n",
    "print(find_second_smallest(my_list))"
   ]
  },
  {
   "cell_type": "code",
   "execution_count": null,
   "metadata": {},
   "outputs": [],
   "source": [
    "def filter_even_numbers(lst):\n",
    "    return [num for num in lst if num % 2 == 0]\n",
    "my_list = list(map(int, input(\"Enter list elements separated by space: \").split()))\n",
    "print(filter_even_numbers(my_list))"
   ]
  },
  {
   "cell_type": "code",
   "execution_count": null,
   "metadata": {},
   "outputs": [],
   "source": [
    "def filter_odd_numbers(lst):\n",
    "    return [num for num in lst if num % 2 != 0]\n",
    "my_list = list(map(int, input(\"Enter list elements separated by space: \").split()))\n",
    "print(filter_odd_numbers(my_list))"
   ]
  },
  {
   "cell_type": "code",
   "execution_count": null,
   "metadata": {},
   "outputs": [],
   "source": [
    "def list_length(lst):\n",
    "    return len(lst)\n",
    "my_list = list(map(int, input(\"Enter list elements separated by space: \").split()))\n",
    "print(list_length(my_list))"
   ]
  },
  {
   "cell_type": "code",
   "execution_count": null,
   "metadata": {},
   "outputs": [],
   "source": [
    "def create_copy(lst):\n",
    "    return lst[:]\n",
    "my_list = list(map(int, input(\"Enter list elements separated by space: \").split()))\n",
    "print(create_copy(my_list))\n"
   ]
  },
  {
   "cell_type": "code",
   "execution_count": null,
   "metadata": {},
   "outputs": [],
   "source": [
    "def get_middle_element(lst):\n",
    "    n = len(lst)\n",
    "    if n == 0:\n",
    "        return None\n",
    "    if n % 2 == 1:\n",
    "        return lst[n // 2]\n",
    "    return lst[n // 2 - 1: n // 2 + 1]\n",
    "my_list = list(map(int, input(\"Enter list elements separated by space: \").split()))\n",
    "print(get_middle_element(my_list))"
   ]
  },
  {
   "cell_type": "code",
   "execution_count": null,
   "metadata": {},
   "outputs": [],
   "source": [
    "def find_maximum_of_sublist(lst, start, end):\n",
    "    return max(lst[start:end+1])\n",
    "my_list = list(map(int, input(\"Enter list elements separated by space: \").split()))\n",
    "print(find_maximum_of_sublist(my_list, 1, 4))"
   ]
  },
  {
   "cell_type": "code",
   "execution_count": null,
   "metadata": {},
   "outputs": [],
   "source": [
    "def find_minimum_of_sublist(lst, start, end):\n",
    "    return min(lst[start:end+1])\n",
    "my_list = list(map(int, input(\"Enter list elements separated by space: \").split()))\n",
    "print(find_minimum_of_sublist(my_list, 1, 4))"
   ]
  },
  {
   "cell_type": "code",
   "execution_count": null,
   "metadata": {},
   "outputs": [],
   "source": [
    "def remove_element_by_index(lst, index):\n",
    "    if 0 <= index < len(lst):\n",
    "        lst.pop(index)\n",
    "    return lst\n",
    "my_list = list(map(int, input(\"Enter list elements separated by space: \").split()))\n",
    "print(remove_element_by_index(my_list[:], 2))"
   ]
  },
  {
   "cell_type": "code",
   "execution_count": null,
   "metadata": {},
   "outputs": [],
   "source": [
    "def check_if_list_is_sorted(lst):\n",
    "    return lst == sorted(lst)\n",
    "my_list = list(map(int, input(\"Enter list elements separated by space: \").split()))\n",
    "print(check_if_list_is_sorted(my_list))"
   ]
  },
  {
   "cell_type": "code",
   "execution_count": null,
   "metadata": {},
   "outputs": [],
   "source": [
    "def repeat_elements(lst, times):\n",
    "    return [item for item in lst for _ in range(times)]\n",
    "my_list = list(map(int, input(\"Enter list elements separated by space: \").split()))\n",
    "print(repeat_elements(my_list, 2))"
   ]
  },
  {
   "cell_type": "code",
   "execution_count": null,
   "metadata": {},
   "outputs": [],
   "source": [
    "def merge_and_sort(lst1, lst2):\n",
    "    return sorted(lst1 + lst2)\n",
    "my_list = list(map(int, input(\"Enter list elements separated by space: \").split()))\n",
    "print(merge_and_sort(my_list, [6, 7, 8]))"
   ]
  },
  {
   "cell_type": "code",
   "execution_count": null,
   "metadata": {},
   "outputs": [],
   "source": [
    "def find_all_indices(lst, element):\n",
    "    return [i for i, e in enumerate(lst) if e == element]\n",
    "my_list = list(map(int, input(\"Enter list elements separated by space: \").split()))\n",
    "print(find_all_indices(my_list, 3))"
   ]
  },
  {
   "cell_type": "code",
   "execution_count": null,
   "metadata": {},
   "outputs": [],
   "source": [
    "def rotate_list(lst, shift):\n",
    "    shift %= len(lst)\n",
    "    return lst[-shift:] + lst[:-shift]\n",
    "my_list = list(map(int, input(\"Enter list elements separated by space: \").split()))\n",
    "print(rotate_list(my_list, 2))"
   ]
  },
  {
   "cell_type": "code",
   "execution_count": null,
   "metadata": {},
   "outputs": [],
   "source": [
    "def create_range_list(start, end):\n",
    "    return list(range(start, end + 1))\n",
    "my_list = list(map(int, input(\"Enter list elements separated by space: \").split()))\n",
    "print(create_range_list(1, 5))"
   ]
  },
  {
   "cell_type": "code",
   "execution_count": null,
   "metadata": {},
   "outputs": [],
   "source": [
    "def sum_of_positive_numbers(lst):\n",
    "    return sum(num for num in lst if num > 0)\n",
    "my_list = list(map(int, input(\"Enter list elements separated by space: \").split()))\n",
    "print(sum_of_positive_numbers([-1, 2, 3, -4, 5]))"
   ]
  },
  {
   "cell_type": "code",
   "execution_count": null,
   "metadata": {},
   "outputs": [],
   "source": [
    "def sum_of_negative_numbers(lst):\n",
    "    return sum(num for num in lst if num < 0)\n",
    "my_list = list(map(int, input(\"Enter list elements separated by space: \").split()))\n",
    "print(sum_of_negative_numbers([-1, 2, 3, -4, 5]))"
   ]
  },
  {
   "cell_type": "code",
   "execution_count": null,
   "metadata": {},
   "outputs": [],
   "source": [
    "def check_palindrome(lst):\n",
    "    return lst == lst[::-1]\n",
    "my_list = list(map(int, input(\"Enter list elements separated by space: \").split()))\n",
    "print(check_palindrome([1, 2, 3, 2, 1]))"
   ]
  },
  {
   "cell_type": "code",
   "execution_count": null,
   "metadata": {},
   "outputs": [],
   "source": [
    "def create_nested_list(lst, sublist_size):\n",
    "    return [lst[i:i + sublist_size] for i in range(0, len(lst), sublist_size)]\n",
    "my_list = list(map(int, input(\"Enter list elements separated by space: \").split()))\n",
    "print(create_nested_list(my_list, 2))"
   ]
  },
  {
   "cell_type": "code",
   "execution_count": null,
   "metadata": {},
   "outputs": [],
   "source": [
    "def get_unique_elements_in_order(lst):\n",
    "    seen = set()\n",
    "    return [x for x in lst if not (x in seen or seen.add(x))]\n",
    "my_list = list(map(int, input(\"Enter list elements separated by space: \").split()))\n",
    "print(get_unique_elements_in_order([1, 2, 3, 3, 4, 2, 5]))"
   ]
  }
 ],
 "metadata": {
  "kernelspec": {
   "display_name": "Python 3",
   "language": "python",
   "name": "python3"
  },
  "language_info": {
   "codemirror_mode": {
    "name": "ipython",
    "version": 3
   },
   "file_extension": ".py",
   "mimetype": "text/x-python",
   "name": "python",
   "nbconvert_exporter": "python",
   "pygments_lexer": "ipython3",
   "version": "3.12.5"
  }
 },
 "nbformat": 4,
 "nbformat_minor": 2
}
