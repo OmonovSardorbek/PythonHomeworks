{
 "cells": [
  {
   "cell_type": "code",
   "execution_count": null,
   "metadata": {},
   "outputs": [],
   "source": [
    "def get_value(d, key):\n",
    "    return d.get(key)\n",
    "sample_dict = {'a': 1, 'b': 2, 'c': 3}\n",
    "print(get_value(sample_dict, 'a'))"
   ]
  },
  {
   "cell_type": "code",
   "execution_count": null,
   "metadata": {},
   "outputs": [],
   "source": [
    "def check_key(d, key):\n",
    "    return key in d\n",
    "sample_dict = {'a': 1, 'b': 2, 'c': 3}\n",
    "print(check_key(sample_dict, 'b'))"
   ]
  },
  {
   "cell_type": "code",
   "execution_count": null,
   "metadata": {},
   "outputs": [],
   "source": [
    "def count_keys(d):\n",
    "    return len(d)\n",
    "sample_dict = {'a': 1, 'b': 2, 'c': 3}\n",
    "print(count_keys(sample_dict))"
   ]
  },
  {
   "cell_type": "code",
   "execution_count": null,
   "metadata": {},
   "outputs": [],
   "source": [
    "def get_all_keys(d):\n",
    "    return list(d.keys())\n",
    "sample_dict = {'a': 1, 'b': 2, 'c': 3}\n",
    "print(get_all_keys(sample_dict))"
   ]
  },
  {
   "cell_type": "code",
   "execution_count": null,
   "metadata": {},
   "outputs": [],
   "source": [
    "def get_all_values(d):\n",
    "    return list(d.values())\n",
    "sample_dict = {'a': 1, 'b': 2, 'c': 3}\n",
    "print(get_all_values(sample_dict))"
   ]
  },
  {
   "cell_type": "code",
   "execution_count": null,
   "metadata": {},
   "outputs": [],
   "source": [
    "def merge_dictionaries(d1, d2):\n",
    "    merged = d1.copy()\n",
    "    merged.update(d2)\n",
    "    return merged\n",
    "sample_dict1 = {'a': 1, 'b': 2, 'c': 3}\n",
    "sample_dict2 = {'c': 4, 'd': 5}\n",
    "print(merge_dictionaries(sample_dict1, sample_dict2))"
   ]
  },
  {
   "cell_type": "code",
   "execution_count": null,
   "metadata": {},
   "outputs": [],
   "source": [
    "def remove_key(d, key):\n",
    "    d.pop(key, None)\n",
    "    return d\n",
    "sample_dict = {'a': 1, 'b': 2, 'c': 3}\n",
    "print(remove_key(sample_dict.copy(), 'b'))"
   ]
  },
  {
   "cell_type": "code",
   "execution_count": null,
   "metadata": {},
   "outputs": [],
   "source": [
    "def clear_dictionary():\n",
    "    return {}\n",
    "sample_dict = {'a': 1, 'b': 2, 'c': 3}\n",
    "print(clear_dictionary())\n"
   ]
  },
  {
   "cell_type": "code",
   "execution_count": null,
   "metadata": {},
   "outputs": [],
   "source": [
    "def is_dictionary_empty(d):\n",
    "    return len(d) == 0\n",
    "sample_dict = {'a': 1, 'b': 2, 'c': 3}\n",
    "print(is_dictionary_empty(sample_dict))"
   ]
  },
  {
   "cell_type": "code",
   "execution_count": null,
   "metadata": {},
   "outputs": [],
   "source": [
    "def get_key_value_pair(d, key):\n",
    "    return (key, d[key]) if key in d else None\n",
    "sample_dict = {'a': 1, 'b': 2, 'c': 3}\n",
    "print(get_key_value_pair(sample_dict, 'c'))\n"
   ]
  },
  {
   "cell_type": "code",
   "execution_count": null,
   "metadata": {},
   "outputs": [],
   "source": [
    "def update_value(d, key, value):\n",
    "    d[key] = value\n",
    "    return d\n",
    "sample_dict = {'a': 1, 'b': 2, 'c': 3}\n",
    "print(update_value(sample_dict.copy(), 'a', 10))"
   ]
  },
  {
   "cell_type": "code",
   "execution_count": null,
   "metadata": {},
   "outputs": [],
   "source": [
    "def count_value_occurrences(d, value):\n",
    "    return list(d.values()).count(value)\n",
    "sample_dict = {'a': 1, 'b': 2, 'c': 3}\n",
    "print(count_value_occurrences(sample_dict, 2))"
   ]
  },
  {
   "cell_type": "code",
   "execution_count": null,
   "metadata": {},
   "outputs": [],
   "source": [
    "def invert_dictionary(d):\n",
    "    return {v: k for k, v in d.items()}\n",
    "sample_dict = {'a': 1, 'b': 2, 'c': 3}\n",
    "print(invert_dictionary(sample_dict))"
   ]
  },
  {
   "cell_type": "code",
   "execution_count": null,
   "metadata": {},
   "outputs": [],
   "source": [
    "def find_keys_with_value(d, value):\n",
    "    return [k for k, v in d.items() if v == value]\n",
    "sample_dict = {'a': 1, 'b': 2, 'c': 3}\n",
    "print(find_keys_with_value(sample_dict, 3))"
   ]
  },
  {
   "cell_type": "code",
   "execution_count": null,
   "metadata": {},
   "outputs": [],
   "source": [
    "def create_dict_from_lists(keys, values):\n",
    "    return dict(zip(keys, values))\n",
    "sample_dict = {'a': 1, 'b': 2, 'c': 3}\n",
    "print(create_dict_from_lists(['a', 'b', 'c'], [1, 2, 3]))"
   ]
  },
  {
   "cell_type": "code",
   "execution_count": null,
   "metadata": {},
   "outputs": [],
   "source": [
    "def check_for_nested_dictionaries(d):\n",
    "    return any(isinstance(v, dict) for v in d.values())\n",
    "sample_dict = {'a': 1, 'b': 2, 'c': 3}\n",
    "print(check_for_nested_dictionaries({'a': {'nested': 1}, 'b': 2}))"
   ]
  },
  {
   "cell_type": "code",
   "execution_count": null,
   "metadata": {},
   "outputs": [],
   "source": [
    "def get_nested_value(d, outer_key, inner_key):\n",
    "    return d.get(outer_key, {}).get(inner_key)\n",
    "sample_dict = {'a': 1, 'b': 2, 'c': 3}\n",
    "print(get_nested_value({'a': {'nested': 1}}, 'a', 'nested'))"
   ]
  },
  {
   "cell_type": "code",
   "execution_count": null,
   "metadata": {},
   "outputs": [],
   "source": [
    "def create_default_dictionary(default_value):\n",
    "    from collections import defaultdict\n",
    "    return defaultdict(lambda: default_value)\n",
    "sample_dict = {'a': 1, 'b': 2, 'c': 3}\n",
    "print(create_default_dictionary(0)['missing_key'])"
   ]
  },
  {
   "cell_type": "code",
   "execution_count": null,
   "metadata": {},
   "outputs": [],
   "source": [
    "def count_unique_values(d):\n",
    "    return len(set(d.values()))\n",
    "sample_dict = {'a': 1, 'b': 2, 'c': 3}\n",
    "print(count_unique_values(sample_dict))"
   ]
  },
  {
   "cell_type": "code",
   "execution_count": null,
   "metadata": {},
   "outputs": [],
   "source": [
    "def sort_dictionary_by_key(d):\n",
    "    return dict(sorted(d.items()))\n",
    "sample_dict = {'a': 1, 'b': 2, 'c': 3}\n",
    "print(sort_dictionary_by_key(sample_dict))"
   ]
  },
  {
   "cell_type": "code",
   "execution_count": null,
   "metadata": {},
   "outputs": [],
   "source": [
    "def sort_dictionary_by_value(d):\n",
    "    return dict(sorted(d.items(), key=lambda item: item[1]))\n",
    "sample_dict = {'a': 1, 'b': 2, 'c': 3}\n",
    "print(sort_dictionary_by_value(sample_dict))"
   ]
  },
  {
   "cell_type": "code",
   "execution_count": null,
   "metadata": {},
   "outputs": [],
   "source": [
    "def filter_by_value(d, condition):\n",
    "    return {k: v for k, v in d.items() if condition(v)}\n",
    "sample_dict = {'a': 1, 'b': 2, 'c': 3}\n",
    "print(filter_by_value(sample_dict, lambda x: x > 1))"
   ]
  },
  {
   "cell_type": "code",
   "execution_count": null,
   "metadata": {},
   "outputs": [],
   "source": [
    "def check_for_common_keys(d1, d2):\n",
    "    return bool(set(d1.keys()) & set(d2.keys()))\n",
    "sample_dict1 = {'a': 1, 'b': 2, 'c': 3}\n",
    "sample_dict2 = {'c': 4, 'd': 5}\n",
    "print(check_for_common_keys(sample_dict1, sample_dict2))"
   ]
  },
  {
   "cell_type": "code",
   "execution_count": null,
   "metadata": {},
   "outputs": [],
   "source": [
    "def create_dict_from_tuple(tuples):\n",
    "    return dict(tuples)\n",
    "sample_tuple = (('x', 10), ('y', 20), ('z', 30))\n",
    "print(create_dict_from_tuple(sample_tuple))"
   ]
  },
  {
   "cell_type": "code",
   "execution_count": null,
   "metadata": {},
   "outputs": [],
   "source": [
    "def get_first_key_value_pair(d):\n",
    "    return next(iter(d.items()), None)\n",
    "sample_dict = {'a': 1, 'b': 2, 'c': 3}\n",
    "print(get_first_key_value_pair(sample_dict))"
   ]
  }
 ],
 "metadata": {
  "language_info": {
   "name": "python"
  }
 },
 "nbformat": 4,
 "nbformat_minor": 2
}
