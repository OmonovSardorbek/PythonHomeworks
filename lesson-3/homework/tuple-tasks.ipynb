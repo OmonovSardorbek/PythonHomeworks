{
 "cells": [
  {
   "cell_type": "code",
   "execution_count": null,
   "metadata": {},
   "outputs": [],
   "source": [
    "def count_occurrences(tup, element):\n",
    "    return tup.count(element)\n",
    "my_tuple = (1, 2, 3, 2, 1, 4, 5, 2, 6)\n",
    "print(count_occurrences(my_tuple, 2))"
   ]
  },
  {
   "cell_type": "code",
   "execution_count": null,
   "metadata": {},
   "outputs": [],
   "source": [
    "def max_element(tup):\n",
    "    return max(tup)\n",
    "my_tuple = (1, 2, 3, 2, 1, 4, 5, 2, 6)\n",
    "print(max_element(my_tuple))"
   ]
  },
  {
   "cell_type": "code",
   "execution_count": null,
   "metadata": {},
   "outputs": [],
   "source": [
    "def min_element(tup):\n",
    "    return min(tup)\n",
    "my_tuple = (1, 2, 3, 2, 1, 4, 5, 2, 6)\n",
    "print(min_element(my_tuple))"
   ]
  },
  {
   "cell_type": "code",
   "execution_count": null,
   "metadata": {},
   "outputs": [],
   "source": [
    "def check_element(tup, element):\n",
    "    return element in tup\n",
    "my_tuple = (1, 2, 3, 2, 1, 4, 5, 2, 6)\n",
    "print(check_element(my_tuple, 3))"
   ]
  },
  {
   "cell_type": "code",
   "execution_count": null,
   "metadata": {},
   "outputs": [],
   "source": [
    "def first_element(tup):\n",
    "    return tup[0] if tup else None\n",
    "my_tuple = (1, 2, 3, 2, 1, 4, 5, 2, 6)\n",
    "print(first_element(my_tuple))"
   ]
  },
  {
   "cell_type": "code",
   "execution_count": null,
   "metadata": {},
   "outputs": [],
   "source": [
    "def last_element(tup):\n",
    "    return tup[-1] if tup else None\n",
    "my_tuple = (1, 2, 3, 2, 1, 4, 5, 2, 6)\n",
    "print(last_element(my_tuple))"
   ]
  },
  {
   "cell_type": "code",
   "execution_count": null,
   "metadata": {},
   "outputs": [],
   "source": [
    "def tuple_length(tup):\n",
    "    return len(tup)\n",
    "my_tuple = (1, 2, 3, 2, 1, 4, 5, 2, 6)\n",
    "print(tuple_length(my_tuple))"
   ]
  },
  {
   "cell_type": "code",
   "execution_count": null,
   "metadata": {},
   "outputs": [],
   "source": [
    "def slice_tuple(tup):\n",
    "    return tup[:3]\n",
    "my_tuple = (1, 2, 3, 2, 1, 4, 5, 2, 6)\n",
    "print(slice_tuple(my_tuple))"
   ]
  },
  {
   "cell_type": "code",
   "execution_count": null,
   "metadata": {},
   "outputs": [],
   "source": [
    "def concatenate_tuples(tup1, tup2):\n",
    "    return tup1 + tup2\n",
    "my_tuple = (1, 2, 3, 2, 1, 4, 5, 2, 6)\n",
    "print(concatenate_tuples(my_tuple, (7, 8)))"
   ]
  },
  {
   "cell_type": "code",
   "execution_count": null,
   "metadata": {},
   "outputs": [],
   "source": [
    "def is_tuple_empty(tup):\n",
    "    return len(tup) == 0\n",
    "my_tuple = (1, 2, 3, 2, 1, 4, 5, 2, 6)\n",
    "print(is_tuple_empty(my_tuple))"
   ]
  },
  {
   "cell_type": "code",
   "execution_count": null,
   "metadata": {},
   "outputs": [],
   "source": [
    "def get_all_indices_of_element(tup, element):\n",
    "    return [i for i, x in enumerate(tup) if x == element]\n",
    "my_tuple = (1, 2, 3, 2, 1, 4, 5, 2, 6)\n",
    "print(get_all_indices_of_element(my_tuple, 2))"
   ]
  },
  {
   "cell_type": "code",
   "execution_count": null,
   "metadata": {},
   "outputs": [],
   "source": [
    "def second_largest(tup):\n",
    "    unique_sorted = sorted(set(tup), reverse=True)\n",
    "    return unique_sorted[1] if len(unique_sorted) > 1 else None\n",
    "my_tuple = (1, 2, 3, 2, 1, 4, 5, 2, 6)\n",
    "print(second_largest(my_tuple))"
   ]
  },
  {
   "cell_type": "code",
   "execution_count": null,
   "metadata": {},
   "outputs": [],
   "source": [
    "def second_smallest(tup):\n",
    "    unique_sorted = sorted(set(tup))\n",
    "    return unique_sorted[1] if len(unique_sorted) > 1 else None\n",
    "my_tuple = (1, 2, 3, 2, 1, 4, 5, 2, 6)\n",
    "print(second_smallest(my_tuple))"
   ]
  },
  {
   "cell_type": "code",
   "execution_count": null,
   "metadata": {},
   "outputs": [],
   "source": [
    "def list_to_tuple(lst):\n",
    "    return tuple(lst)\n",
    "my_tuple = (1, 2, 3, 2, 1, 4, 5, 2, 6)\n",
    "print(list_to_tuple([1, 2, 3]))"
   ]
  },
  {
   "cell_type": "code",
   "execution_count": null,
   "metadata": {},
   "outputs": [],
   "source": [
    "def is_tuple_sorted(tup):\n",
    "    return all(tup[i] <= tup[i + 1] for i in range(len(tup) - 1))\n",
    "my_tuple = (1, 2, 3, 2, 1, 4, 5, 2, 6)\n",
    "print(is_tuple_sorted(my_tuple))"
   ]
  },
  {
   "cell_type": "code",
   "execution_count": null,
   "metadata": {},
   "outputs": [],
   "source": [
    "def max_of_subtuple(tup, start, end):\n",
    "    return max(tup[start:end])\n",
    "my_tuple = (1, 2, 3, 2, 1, 4, 5, 2, 6)\n",
    "print(max_of_subtuple(my_tuple, 2, 5))"
   ]
  },
  {
   "cell_type": "code",
   "execution_count": null,
   "metadata": {},
   "outputs": [],
   "source": [
    "def min_of_subtuple(tup, start, end):\n",
    "    return min(tup[start:end])\n",
    "my_tuple = (1, 2, 3, 2, 1, 4, 5, 2, 6)\n",
    "print(min_of_subtuple(my_tuple, 2, 5))"
   ]
  },
  {
   "cell_type": "code",
   "execution_count": null,
   "metadata": {},
   "outputs": [],
   "source": [
    "def remove_element_by_value(tup, element):\n",
    "    lst = list(tup)\n",
    "    if element in lst:\n",
    "        lst.remove(element)\n",
    "    return tuple(lst)\n",
    "my_tuple = (1, 2, 3, 2, 1, 4, 5, 2, 6)\n",
    "print(remove_element_by_value(my_tuple, 2))"
   ]
  },
  {
   "cell_type": "code",
   "execution_count": null,
   "metadata": {},
   "outputs": [],
   "source": [
    "def create_nested_tuple(*args):\n",
    "    return tuple(args)\n",
    "\n",
    "my_tuple = (1, 2, 3, 2, 1, 4, 5, 2, 6)\n",
    "print(create_nested_tuple((1, 2), (3, 4)))"
   ]
  },
  {
   "cell_type": "code",
   "execution_count": null,
   "metadata": {},
   "outputs": [],
   "source": [
    "def repeat_elements(tup, n):\n",
    "    return tuple(x for x in tup for _ in range(n))\n",
    "my_tuple = (1, 2, 3, 2, 1, 4, 5, 2, 6)\n",
    "print(repeat_elements(my_tuple, 2))"
   ]
  },
  {
   "cell_type": "code",
   "execution_count": null,
   "metadata": {},
   "outputs": [],
   "source": [
    "def create_range_tuple(start, end):\n",
    "    return tuple(range(start, end + 1))\n",
    "my_tuple = (1, 2, 3, 2, 1, 4, 5, 2, 6)\n",
    "print(create_range_tuple(1, 10))"
   ]
  },
  {
   "cell_type": "code",
   "execution_count": null,
   "metadata": {},
   "outputs": [],
   "source": [
    "def reverse_tuple(tup):\n",
    "    return tup[::-1]\n",
    "my_tuple = (1, 2, 3, 2, 1, 4, 5, 2, 6)\n",
    "print(reverse_tuple(my_tuple))"
   ]
  },
  {
   "cell_type": "code",
   "execution_count": null,
   "metadata": {},
   "outputs": [],
   "source": [
    "def is_palindrome(tup):\n",
    "    return tup == tup[::-1]\n",
    "my_tuple = (1, 2, 3, 2, 1, 4, 5, 2, 6)\n",
    "print(is_palindrome(my_tuple))"
   ]
  },
  {
   "cell_type": "code",
   "execution_count": null,
   "metadata": {},
   "outputs": [],
   "source": [
    "def get_unique_elements(tup):\n",
    "    seen = set()\n",
    "    return tuple(x for x in tup if not (x in seen or seen.add(x)))\n",
    "my_tuple = (1, 2, 3, 2, 1, 4, 5, 2, 6)\n",
    "print(get_unique_elements(my_tuple))"
   ]
  }
 ],
 "metadata": {
  "kernelspec": {
   "display_name": "Python 3",
   "language": "python",
   "name": "python3"
  },
  "language_info": {
   "codemirror_mode": {
    "name": "ipython",
    "version": 3
   },
   "file_extension": ".py",
   "mimetype": "text/x-python",
   "name": "python",
   "nbconvert_exporter": "python",
   "pygments_lexer": "ipython3",
   "version": "3.12.5"
  }
 },
 "nbformat": 4,
 "nbformat_minor": 2
}
