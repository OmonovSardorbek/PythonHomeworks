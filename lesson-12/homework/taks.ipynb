{
 "cells": [
  {
   "cell_type": "code",
   "execution_count": null,
   "metadata": {},
   "outputs": [],
   "source": [
    "import requests"
   ]
  },
  {
   "cell_type": "code",
   "execution_count": 174,
   "metadata": {},
   "outputs": [],
   "source": [
    "def display_weather(info):\n",
    "    try:\n",
    "        temperature = info['main']['temp']\n",
    "        humidity = info['main']['humidity']\n",
    "        weather_description = info['weather'][0]['description']\n",
    "        wind_speed = info['wind']['speed']\n",
    "        visibility = info['visibility']\n",
    "        print(f'''All about the weather in Termez today:\n",
    "        weather_description - {weather_description}\n",
    "        temperature - {temperature} F\n",
    "        wind_speed - {wind_speed} miles/hour\n",
    "        humidity - {humidity} %\n",
    "        visibility - {visibility} meters\n",
    "        ''')\n",
    "        \n",
    "    except KeyError as e:\n",
    "        print(f'Error occured {e}')"
   ]
  },
  {
   "cell_type": "code",
   "execution_count": 175,
   "metadata": {},
   "outputs": [],
   "source": [
    "def weather_data():\n",
    "    \n",
    "    try:\n",
    "        with open('api_key.txt', 'rt') as text_of_key:\n",
    "            personal_key = text_of_key.read().strip()\n",
    "        latitude = 37.12 # for Termez city\n",
    "        longitude = 67.16\n",
    "        response = requests.get(f'https://api.openweathermap.org/data/2.5/weather?lat={latitude}&lon={longitude}&appid={personal_key}')\n",
    "\n",
    "        response.raise_for_status()\n",
    "\n",
    "        weather_data = response.json()\n",
    "        display_weather(weather_data)\n",
    "\n",
    "    except requests.exceptions.RequestException as e:\n",
    "        print(f'Error occured {e}')\n",
    "\n",
    "    except FileNotFoundError as e:\n",
    "        print(f'Error Occured {e}')\n",
    "    \n"
   ]
  },
  {
   "cell_type": "code",
   "execution_count": 176,
   "metadata": {},
   "outputs": [],
   "source": [
    "def main():\n",
    "    weather_data()"
   ]
  },
  {
   "cell_type": "code",
   "execution_count": null,
   "metadata": {},
   "outputs": [],
   "source": [
    "if __name__ == '__main__':\n",
    "    main()"
   ]
  }
 ],
 "metadata": {
  "kernelspec": {
   "display_name": "Python 3",
   "language": "python",
   "name": "python3"
  },
  "language_info": {
   "codemirror_mode": {
    "name": "ipython",
    "version": 3
   },
   "file_extension": ".py",
   "mimetype": "text/x-python",
   "name": "python",
   "nbconvert_exporter": "python",
   "pygments_lexer": "ipython3",
   "version": "3.12.8"
  }
 },
 "nbformat": 4,
 "nbformat_minor": 2
}
