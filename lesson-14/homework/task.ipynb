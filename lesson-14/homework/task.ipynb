{
 "cells": [
  {
   "cell_type": "code",
   "execution_count": 75,
   "metadata": {},
   "outputs": [],
   "source": [
    "import numpy as np"
   ]
  },
  {
   "cell_type": "code",
   "execution_count": 76,
   "metadata": {},
   "outputs": [],
   "source": [
    "# Task_1\n",
    "def fahrenheit_to_celsius(temperature_fahr):\n",
    "    temperature_cels = (temperature_fahr - 32) * 5 / 9\n",
    "    return temperature_cels\n",
    "\n",
    "list_of_fahrenheit = np.array([32, 68, 100, 212, 77])\n",
    "\n",
    "vect_func = np.vectorize(fahrenheit_to_celsius)\n",
    "temps_celsius = vect_func(list_of_fahrenheit)\n"
   ]
  },
  {
   "cell_type": "code",
   "execution_count": 77,
   "metadata": {},
   "outputs": [
    {
     "name": "stdout",
     "output_type": "stream",
     "text": [
      "[2, 9, 64, 625]\n"
     ]
    }
   ],
   "source": [
    "# Task_2\n",
    "def power_func(num, pow):\n",
    "    return num**pow\n",
    "vect_power = np.vectorize(power_func)\n",
    "num_list = np.array([2, 3, 4, 5])\n",
    "pow_list = np.array([1, 2, 3, 4])\n",
    "print(list(vect_power(num_list, pow_list)))"
   ]
  },
  {
   "cell_type": "code",
   "execution_count": 78,
   "metadata": {},
   "outputs": [
    {
     "name": "stdout",
     "output_type": "stream",
     "text": [
      "[2.0, 1.0, -0.0]\n"
     ]
    }
   ],
   "source": [
    "# Task_3\n",
    "A = np.array([[4, 5, 6], [3, -1, 1], [2, 1, -2]])\n",
    "b = np.array([7, 4, 5])\n",
    "\n",
    "print(list(np.round(np.linalg.solve(A, b))))"
   ]
  },
  {
   "cell_type": "code",
   "execution_count": null,
   "metadata": {},
   "outputs": [],
   "source": [
    "# Task_4\n",
    "A2 = np.array([[10, -2, 3], [-2, 8, -1], [3, -1, 6]])\n",
    "b2 = np.array([12, -5, 15])\n",
    "\n",
    "print(list(np.round(np.linalg.solve(A2, b2), 2)))\n"
   ]
  },
  {
   "cell_type": "code",
   "execution_count": 80,
   "metadata": {},
   "outputs": [],
   "source": [
    "from PIL import Image"
   ]
  },
  {
   "cell_type": "code",
   "execution_count": 81,
   "metadata": {},
   "outputs": [],
   "source": [
    "image = Image.open('birds.jpg')\n",
    "image_array = np.array(image)"
   ]
  },
  {
   "cell_type": "code",
   "execution_count": null,
   "metadata": {},
   "outputs": [],
   "source": [
    "print(image_array.shape)\n",
    "print(image_array.size)\n",
    "print(image_array)"
   ]
  },
  {
   "cell_type": "code",
   "execution_count": 83,
   "metadata": {},
   "outputs": [],
   "source": [
    "def flip_image(img_array):\n",
    "    flipped_image = np.flipud(np.fliplr(img_array))\n",
    "    return flipped_image"
   ]
  },
  {
   "cell_type": "code",
   "execution_count": 84,
   "metadata": {},
   "outputs": [],
   "source": [
    "def make_brighter(img_array, bright_value=96):\n",
    "    img_array = img_array.astype(np.int32)\n",
    "    img_array[:,:,0] += bright_value\n",
    "    img_array = np.clip(img_array, 0, 255).astype(np.uint8)\n",
    "    return img_array"
   ]
  },
  {
   "cell_type": "code",
   "execution_count": 85,
   "metadata": {},
   "outputs": [],
   "source": [
    "def make_mask(img_array, mask_size=(200, 150)):\n",
    "    height, width, _ = img_array.shape\n",
    "    center = (height // 2, width // 2)\n",
    "    mask_cord = (center[0] - mask_size[0] // 2, center[1] - mask_size[1] // 2)\n",
    "    img_array[mask_cord[0]:mask_cord[0] + mask_size[0], mask_cord[1]:mask_cord[1] + mask_size[1]] = 0\n",
    "    return img_array"
   ]
  },
  {
   "cell_type": "code",
   "execution_count": 86,
   "metadata": {},
   "outputs": [],
   "source": [
    "def main():\n",
    "    flipped_image = flip_image(image_array)\n",
    "    Image.fromarray(flipped_image).save('flipped_image.jpg')\n",
    "\n",
    "    brightened_image = make_brighter(image_array)\n",
    "    Image.fromarray(brightened_image).save('brightened_image.jpg')\n",
    "\n",
    "    masked_image = make_mask(image_array)\n",
    "    Image.fromarray(masked_image).save('masked_image.jpg')"
   ]
  },
  {
   "cell_type": "code",
   "execution_count": 87,
   "metadata": {},
   "outputs": [],
   "source": [
    "if __name__ == '__main__':\n",
    "    main()"
   ]
  }
 ],
 "metadata": {
  "kernelspec": {
   "display_name": "Python 3",
   "language": "python",
   "name": "python3"
  },
  "language_info": {
   "codemirror_mode": {
    "name": "ipython",
    "version": 3
   },
   "file_extension": ".py",
   "mimetype": "text/x-python",
   "name": "python",
   "nbconvert_exporter": "python",
   "pygments_lexer": "ipython3",
   "version": "3.11.6"
  }
 },
 "nbformat": 4,
 "nbformat_minor": 2
}
