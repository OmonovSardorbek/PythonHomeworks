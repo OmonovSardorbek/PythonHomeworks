{
 "cells": [
  {
   "cell_type": "code",
   "execution_count": 1,
   "metadata": {},
   "outputs": [],
   "source": [
    "import sqlite3\n",
    "import pandas as pd\n",
    "import os"
   ]
  },
  {
   "cell_type": "code",
   "execution_count": 2,
   "metadata": {},
   "outputs": [],
   "source": [
    "#Part 1 Task 1\n",
    "def connect_to_chinook():\n",
    "    \n",
    "    try:\n",
    "\n",
    "        with sqlite3.connect('../data/chinook.db') as chinook:\n",
    "            customers_table = pd.read_sql(\n",
    "                'SELECT * FROM customers',\n",
    "                con = chinook\n",
    "            )\n",
    "\n",
    "        return customers_table\n",
    "    \n",
    "    except sqlite3.OperationalError as e:\n",
    "        print(f'Error occured {e}')\n",
    "        return None\n",
    "    \n",
    "    except Exception as e:\n",
    "        print(f'Something unexpected happened {e}!')\n",
    "        return None"
   ]
  },
  {
   "cell_type": "code",
   "execution_count": 3,
   "metadata": {},
   "outputs": [],
   "source": [
    "# Part 1 Task 2\n",
    "def open_iris():\n",
    "\n",
    "    try:\n",
    "        path = r'../data/iris.json'\n",
    "        if not os.path.exists(path):\n",
    "            print(f'File not found in {path}')\n",
    "            return None\n",
    "        data_from_iris = pd.read_json(path)\n",
    "\n",
    "        return data_from_iris\n",
    "\n",
    "    except Exception as e:\n",
    "        print(f'Something unexpected happen {e}!')\n",
    "        return None\n",
    "    \n"
   ]
  },
  {
   "cell_type": "code",
   "execution_count": 4,
   "metadata": {},
   "outputs": [],
   "source": [
    "# Part 1 Task 3\n",
    "def load_titanic():\n",
    "    try:\n",
    "        path = r'../data/titanic.xlsx'\n",
    "        if not os.path.exists(path):\n",
    "            print(f'File not found in {path}')\n",
    "            return None\n",
    "        excel_data = pd.read_excel(path, sheet_name=0)\n",
    "        return excel_data\n",
    "\n",
    "    except Exception as e:\n",
    "        print(f'Error occured {e}')\n",
    "        return None\n"
   ]
  },
  {
   "cell_type": "code",
   "execution_count": 18,
   "metadata": {},
   "outputs": [],
   "source": [
    "# Part 1 Task 4\n",
    "def open_parquet():\n",
    "    try:\n",
    "        path = r'../data/flights'\n",
    "        if not os.path.exists(path):\n",
    "            print(f'File does not exist in {path}')\n",
    "            return None\n",
    "        data_flights = pd.read_parquet(path)\n",
    "        return data_flights\n",
    "    except Exception as e:\n",
    "        print(f'Something unexpected happen {e}')\n",
    "        return None"
   ]
  },
  {
   "cell_type": "code",
   "execution_count": 6,
   "metadata": {},
   "outputs": [],
   "source": [
    "# Part 1 Task 5\n",
    "def read_movies_csv_file():\n",
    "    try:\n",
    "        path = r'../data/movie.csv'\n",
    "        if not os.path.exists(path):\n",
    "            print(f'File does not exist in {path}')\n",
    "            return None\n",
    "        movies = pd.read_csv(path)\n",
    "        \n",
    "        return movies\n",
    "    except Exception as e:\n",
    "        print(f'Error occured {e}')      "
   ]
  },
  {
   "cell_type": "code",
   "execution_count": 7,
   "metadata": {},
   "outputs": [],
   "source": [
    "# Part 2 Task 1\n",
    "def work_with_iris(data_from_iris):    \n",
    "    data_from_iris.rename(columns = str.lower, inplace=True)\n",
    "    lowercase_columns, sepal_columns = [i for i in data_from_iris.columns], data_from_iris[['sepallength', 'sepalwidth']]\n",
    "    return lowercase_columns, sepal_columns"
   ]
  },
  {
   "cell_type": "code",
   "execution_count": 8,
   "metadata": {},
   "outputs": [],
   "source": [
    "# Part 2 Task 2\n",
    "def work_with_titanic(titanic_data):\n",
    "    above_30_age = titanic_data[titanic_data['Age'] > 30]\n",
    "    number_of_male_and_females = titanic_data['Sex'].value_counts()\n",
    "    return above_30_age, number_of_male_and_females"
   ]
  },
  {
   "cell_type": "code",
   "execution_count": 9,
   "metadata": {},
   "outputs": [],
   "source": [
    "# Part 2 Task 3\n",
    "def work_with_flights(data_flights):\n",
    "    data_flights.rename(columns=str.lower, inplace=True)\n",
    "    origin_dest_carrier = data_flights[['origin', 'dest', 'carrierdelay']]\n",
    "    numbers_of_destinations = data_flights['destcityname'].value_counts()\n",
    "    return origin_dest_carrier, numbers_of_destinations"
   ]
  },
  {
   "cell_type": "code",
   "execution_count": 10,
   "metadata": {},
   "outputs": [],
   "source": [
    "# Part 2 Task 4\n",
    "def work_with_movies(data_movies):\n",
    "    duration_more_120 = data_movies[data_movies['duration'] > 120]\n",
    "    duration_more_120 = duration_more_120.sort_values(by = 'director_facebook_likes', ascending = False)\n",
    "    return duration_more_120"
   ]
  },
  {
   "cell_type": "code",
   "execution_count": 11,
   "metadata": {},
   "outputs": [],
   "source": [
    "# Part 3 Task 1\n",
    "def calculation_iris(data_from_iris):\n",
    "    statistics = data_from_iris.loc[:, ['sepallength', 'sepalwidth', 'petallength', 'petalwidth']].agg(['mean', 'median', 'std'], axis = 0)\n",
    "    return statistics"
   ]
  },
  {
   "cell_type": "code",
   "execution_count": 12,
   "metadata": {},
   "outputs": [],
   "source": [
    "# Part 3 Task 2\n",
    "def calculation_titanic(titanic_data):\n",
    "    statistics = titanic_data['Age'].agg(['min', 'max', 'sum'], axis = 0)\n",
    "    return statistics"
   ]
  },
  {
   "cell_type": "code",
   "execution_count": 13,
   "metadata": {},
   "outputs": [],
   "source": [
    "# Part 3 Task 3\n",
    "def statistics_movies(data_movies):\n",
    "    director_likes = data_movies[['director_name', 'director_facebook_likes']].sort_values(by='director_facebook_likes', ascending=False)\n",
    "    director_most_liked = director_likes.loc[0]\n",
    "    five_long_films_and_directors = data_movies[['director_name', 'duration']].sort_values(by='duration', ascending=False).head(5)\n",
    "    return director_most_liked, five_long_films_and_directors\n"
   ]
  },
  {
   "cell_type": "code",
   "execution_count": 14,
   "metadata": {},
   "outputs": [],
   "source": [
    "# Part 3 Task 4\n",
    "def fill_None_in_flights(data_flights):\n",
    "    numeric_columns = data_flights.select_dtypes(include='number')\n",
    "    for column in numeric_columns.columns:\n",
    "        data_flights[column].fillna(data_flights[column].mean(), inplace=True)\n",
    "    return data_flights"
   ]
  },
  {
   "cell_type": "code",
   "execution_count": 16,
   "metadata": {},
   "outputs": [],
   "source": [
    "def main():\n",
    "\n",
    "    print('Part 1 Results\\nTask 1\\n')\n",
    "    customers_table = connect_to_chinook()\n",
    "    result = customers_table.head(10)\n",
    "    if result is not None:\n",
    "        print(result)\n",
    "    else:\n",
    "        print('Can not connect data')\n",
    "    \n",
    "    print('Task 2\\n')\n",
    "    data_from_iris = open_iris()\n",
    "    shape, column_names = data_from_iris.shape, data_from_iris.columns\n",
    "    if shape is not None and column_names is not None:\n",
    "        print(shape)\n",
    "        print([i for i in column_names])\n",
    "    else:\n",
    "        print('Problem with results')\n",
    "\n",
    "    print('Task 3\\n')\n",
    "    titanic_data = load_titanic()\n",
    "    print(titanic_data.head(5))\n",
    "    \n",
    "    print('Task 4\\n')\n",
    "    data_flights = open_parquet()\n",
    "    print(data_flights.info())\n",
    "    \n",
    "    print('Task 5\\n')\n",
    "    movies = read_movies_csv_file()\n",
    "    print(movies.sample(10))\n",
    "    \n",
    "    print('Part 2 Results\\n Task 1\\n')\n",
    "    lowercase_columns, sepal_columns = work_with_iris(data_from_iris)\n",
    "    print(lowercase_columns)\n",
    "    print(sepal_columns)\n",
    "\n",
    "    print('Task 2\\n')\n",
    "    above_30_age, number_of_male_and_females = work_with_titanic(titanic_data)\n",
    "    print(above_30_age)\n",
    "    print(number_of_male_and_females)\n",
    "    \n",
    "    print('Task 3\\n')\n",
    "    origin_dest_carrier, numbers_of_destinations = work_with_flights(data_flights)\n",
    "    print(origin_dest_carrier)\n",
    "    print(numbers_of_destinations)\n",
    "\n",
    "    print('Task 4\\n')\n",
    "    print(work_with_movies(movies))\n",
    "\n",
    "    print('Part 3 Results\\n Task 1')\n",
    "    print(calculation_iris(data_from_iris))\n",
    "    print('Task 2\\n')\n",
    "    print(calculation_titanic(titanic_data))\n",
    "\n",
    "    print('Task 3\\n')\n",
    "    director_most_liked, five_long_films_and_directors = statistics_movies(movies)\n",
    "    print(director_most_liked)\n",
    "    print(five_long_films_and_directors)\n",
    "    \n",
    "    print('Task 4\\n')\n",
    "    print(fill_None_in_flights(data_flights))"
   ]
  },
  {
   "cell_type": "code",
   "execution_count": null,
   "metadata": {},
   "outputs": [],
   "source": [
    "if __name__ == '__main__':\n",
    "    main()"
   ]
  }
 ],
 "metadata": {
  "kernelspec": {
   "display_name": "Python 3",
   "language": "python",
   "name": "python3"
  },
  "language_info": {
   "codemirror_mode": {
    "name": "ipython",
    "version": 3
   },
   "file_extension": ".py",
   "mimetype": "text/x-python",
   "name": "python",
   "nbconvert_exporter": "python",
   "pygments_lexer": "ipython3",
   "version": "3.11.6"
  }
 },
 "nbformat": 4,
 "nbformat_minor": 2
}
